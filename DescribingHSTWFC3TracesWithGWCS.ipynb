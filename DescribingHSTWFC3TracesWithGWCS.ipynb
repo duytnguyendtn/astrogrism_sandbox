{
 "cells": [
  {
   "cell_type": "markdown",
   "metadata": {},
   "source": [
    "# Hubble WFC3 Grism Distortion"
   ]
  },
  {
   "cell_type": "markdown",
   "metadata": {},
   "source": [
    "The goal of this notebook is to describe a proposed process of describing WFC3 Grism distortions with the Generalized World Coordinate System (GWCS). Due to time constraints, this work is currently incomplete due to working bugs, but a theoretical process is described below."
   ]
  },
  {
   "cell_type": "markdown",
   "metadata": {},
   "source": [
    "This package depends on a few packages and repositories:\n",
    "* asdf\n",
    "* astropy\n",
    "* h5py\n",
    "* grismconf\n",
    "    * https://github.com/npirzkal/GRISMCONF\n",
    "    * numpy, astropy and scipy should be installed if not automatically\n",
    "* gwcs\n",
    "* jwst\n",
    "    * https://github.com/spacetelescope/jwst\n",
    "* jwreftools\n",
    "    * https://github.com/spacetelescope/jwreftools"
   ]
  },
  {
   "cell_type": "markdown",
   "metadata": {},
   "source": [
    "## Background"
   ]
  },
  {
   "cell_type": "markdown",
   "metadata": {},
   "source": [
    "aXe, the current HST Grism Analysis and Extraction Tool this AstroGrism project is intended to replace, describes the grism trace relative to the x-axis. This restricts aXe from becoming a general purpose grism tool, considering the JWST traces can be traced along the y-axis. As such, to try and leverage the work done by the JWST pipeline, we need to be able to describe the HST grism traces using GWCS, the method the JWST pipeline uses. "
   ]
  },
  {
   "cell_type": "markdown",
   "metadata": {},
   "source": [
    "Nadia Dencheva's jupyter notebook shows how the JWST pipeline ingests GRISM data: https://github.com/nden/documentation/blob/master/grisms/JWST_Grisms.ipynb\n",
    "\n",
    "As in cell In[4], three reference files are provided, which I've copied below:\n",
    "```python\n",
    "reference_files = {\n",
    "    'distortion': '/Users/dencheva/crds/references/jwst/nircam/jwst_nircam_distortion_0096.asdf',\n",
    "    'specwcs': '/Users/dencheva/crds/references/jwst/nircam/jwst_nircam_specwcs_0009.asdf',\n",
    "    'wavelengthrange': '/Users/dencheva/crds/references/jwst/nircam/jwst_nircam_wavelengthrange_0003.asdf'\n",
    "    }\n",
    "```"
   ]
  },
  {
   "cell_type": "markdown",
   "metadata": {},
   "source": [
    "The specific one I'd bring attention to is the 'specwcs' file. This file is where the trace polynomials and models, described in astropy models, are described.\n",
    "```python\n",
    "specwcs = asdf.open(reference_files['specwcs']).tree\n",
    "displ = specwcs['displ']\n",
    "dispx = specwcs['dispx']\n",
    "dispy = specwcs['dispy']\n",
    "invdispl = specwcs['invdispl']\n",
    "invdispx = specwcs['invdispx']\n",
    "invdispy = specwcs['invdispy']\n",
    "orders = specwcs['orders']\n",
    "```"
   ]
  },
  {
   "cell_type": "markdown",
   "metadata": {},
   "source": [
    "These are the models that eventually are fed into GWCS:\n",
    "```python\n",
    "gdetector = cf.Frame2D(name='grism_detector', \n",
    "                       axes_order=(0, 1),\n",
    "                       unit=(u.pix, u.pix))\n",
    "det2det = NIRCAMForwardRowGrismDispersion(orders,\n",
    "                                          lmodels=displ,\n",
    "                                          xmodels=invdispx,\n",
    "                                          ymodels=dispy)\n",
    "det2det.inverse = NIRCAMBackwardGrismDispersion(orders,\n",
    "                                                lmodels=invdispl,\n",
    "                                                xmodels=dispx,\n",
    "                                                ymodels=dispy)\n",
    "\n",
    "grism_pipeline = [(gdetector, det2det)]\n",
    "...\n",
    "from gwcs import WCS\n",
    "wcsobj = WCS(grism_pipeline)\n",
    "```"
   ]
  },
  {
   "cell_type": "markdown",
   "metadata": {},
   "source": [
    "So if we can generate these specwcs files for WFC3, then we'd be golden! So let's take a look at how this file is generated. It is generated in the jwreftools.nircam.nircam.grism.reffiles.create_grism_specwcs method:\n",
    "https://github.com/spacetelescope/jwreftools/blob/master/jwreftools/nircam/nircam_grism_reffiles.py\n",
    "```python\n",
    "def create_grism_specwcs(conffile=\"\",\n",
    "                         pupil=None,\n",
    "                         module=None,\n",
    "                         author=\"STScI\",\n",
    "                         history=\"\",\n",
    "                         outname=None):\n",
    "    \"\"\"\n",
    "    Create an asdf reference file to hold Grism C (column) or Grism R (rows)\n",
    "    configuration information, no sensativity information is included\n",
    "    Note: The orders are named alphabetically, i.e. Order A, Order B\n",
    "    There are also sensativity fits files which are tables of wavelength,\n",
    "    sensativity, and error. These are specified in the conffile but will\n",
    "    not be read in and saved in the output reference file for now.\n",
    "    It's possible they may be included in the future, either here or as\n",
    "    a separate reference files. Their use here would be to help define the\n",
    "    min and max wavelengths which set the extent of the dispersed trace on\n",
    "    the grism image. Convolving the sensitiviy file with the filter throughput\n",
    "    allows one to calculate the wavelength of minimum throughput which defines\n",
    "    the edges of the trace.\n",
    "    direct_filter is not specified because it assumes that the wedge\n",
    "    information (wx,wy) is included in the conf file in one of the key-value\n",
    "    pairs, where the key includes the beam designation\n",
    "     this reference file also contains the polynomial model which is\n",
    "     appropriate for the coefficients which are listed.\n",
    "     wavelength = DISPL(order,x0,y0,t)\n",
    "     dx = DISPX(order,x0,y0,t)\n",
    "     dy = DISPY(order,x0,y0,t)\n",
    "     t = INVDISPX(order,x0,y0,dx)\n",
    "     t = INVDISPY(order,x0,y0,dy)\n",
    "     t = INVDISL(order,x0,y0, wavelength)\n",
    "    Parameters\n",
    "    ----------\n",
    "    conffile : str\n",
    "        The text file with configuration information, formatted as aXe expects\n",
    "    pupil : str\n",
    "        Name of the grism the conffile corresponds to\n",
    "        Taken from the conffile name if not specified\n",
    "    module : str\n",
    "        Name of the Nircam module\n",
    "        Taken from the conffile name if not specified\n",
    "    author : str\n",
    "        The name of the author\n",
    "    history : str\n",
    "        A comment about the refrence file to be saved with the meta information\n",
    "    outname : str\n",
    "        Output name for the reference file\n",
    "    Returns\n",
    "    -------\n",
    "    fasdf : asdf.AsdfFile(jwst.datamodels.NIRCAMGrismModel)\n",
    "    \"\"\"\n",
    "```"
   ]
  },
  {
   "cell_type": "markdown",
   "metadata": {},
   "source": [
    "This method effectively reads in a 'conffile' and extracts certain information from it. This 'conffile' is the core of generating this 'specwcs' file. What are these 'conffiles'?\n",
    "\n",
    "GRISMCONF, built by Nor Pirzkal and Russell Ryan, is a package that describes the grism traces via a set of parametric equations, using a change of variables, from \"x\" or \"y\" to \"t\". GRISMCONF uses a catalog of configuration files for each instrument and filter. These configurations can be found here:\n",
    "* https://github.com/npirzkal/GRISM_WFC3\n",
    "* https://github.com/npirzkal/GRISM_NIRCAM\n",
    "* https://github.com/npirzkal/GRISM_NIRISS\n",
    "\n",
    "According to a discussion I had with Nadia Dencheva, *the GRISMCONF configuration files are the same ones used by the JWST pipeline to generate the 'specwcs' files!* So it should be simple to just plug in a GRISM_WFC3 configuration file and go through the reduction from there! GRISMCONF should be the interface for us to bridge the gap between the HST Grism files and the JWST GRISM pipeline"
   ]
  },
  {
   "cell_type": "markdown",
   "metadata": {},
   "source": [
    "## Pseudocode/Working Theory"
   ]
  },
  {
   "cell_type": "markdown",
   "metadata": {},
   "source": [
    "### Downloading Files\n",
    "Let's download our working files from the AstroGrism Shared Data Repository"
   ]
  },
  {
   "cell_type": "code",
   "execution_count": 12,
   "metadata": {},
   "outputs": [
    {
     "name": "stdout",
     "output_type": "stream",
     "text": [
      "Please wait, downloading HST WFC3 Data files...\n",
      "Download Successful\n"
     ]
    }
   ],
   "source": [
    "ib6o23rsq_flt_2_SPC_url = 'https://stsci.box.com/shared/static/2ks8o8q57kw0htlvsqzwbuw8no0qv9vs.fits'\n",
    "#ib6o23rsq_flt_2_opt_SPC_url= 'https://stsci.box.com/shared/static/tr7f7iip75670um01y1qco520dygk5tm.fits'\n",
    "\n",
    "import pathlib\n",
    "from urllib.parse import urlparse\n",
    "from urllib.request import urlretrieve\n",
    "import tempfile\n",
    "\n",
    "tempdir = pathlib.Path(tempfile.gettempdir())\n",
    "ib6o23rsq_flt_2_SPC_path = tempdir / \"ib6o23rsq_flt_2_SPC.fits\"\n",
    "#ib6o23rsq_flt_2_opt_SPC_path = tempdir / \"ib6o23rsq_flt_2_opt_SPC.fits\"\n",
    "\n",
    "try:\n",
    "    print(\"Please wait, downloading HST WFC3 Data files...\")\n",
    "    if not ib6o23rsq_flt_2_SPC_path.is_file():\n",
    "        urlretrieve(ib6o23rsq_flt_2_SPC_url, ib6o23rsq_flt_2_SPC_path)\n",
    "    #if not ib6o23rsq_flt_2_opt_SPC_path.is_file():\n",
    "    #    urlretrieve(ib6o23rsq_flt_2_opt_SPC_url, ib6o23rsq_flt_2_opt_SPC_path)\n",
    "    print(\"Download Successful\")\n",
    "except:\n",
    "    print(\"Failed to download files...\")\n",
    "    raise"
   ]
  },
  {
   "cell_type": "markdown",
   "metadata": {},
   "source": [
    "Ok let's gather the appropriate GRISMCONF configuration file (there are also sensitivity files if those are necessary)"
   ]
  },
  {
   "cell_type": "code",
   "execution_count": 11,
   "metadata": {},
   "outputs": [
    {
     "name": "stdout",
     "output_type": "stream",
     "text": [
      "Please wait, downloading HST GRISMCONF configuration files...\n",
      "Download Successful\n"
     ]
    }
   ],
   "source": [
    "from astropy.io import fits\n",
    "hdu1 = fits.open(ib6o23rsq_flt_2_SPC_path)\n",
    "filter = hdu1[0].header['FILTER']\n",
    "try: \n",
    "    print(\"Please wait, downloading HST GRISMCONF configuration files...\")\n",
    "    if filter == \"G102\":\n",
    "        conf_url = \"https://raw.githubusercontent.com/npirzkal/GRISM_WFC3/master/G102.conf\"\n",
    "        conf_path = tempdir / \"G102.conf\"\n",
    "        if not G102_conf_path.is_file():\n",
    "            urlretrieve(G102_conf_url, G102_conf_path)    \n",
    "    elif filter == \"G141\":\n",
    "        conf_url = \"https://raw.githubusercontent.com/npirzkal/GRISM_WFC3/master/G141.conf\"\n",
    "        conf_path = tempdir / \"G141.conf\"\n",
    "        if not G141_conf_path.is_file():\n",
    "            urlretrieve(G141_conf_url, G141_conf_path)\n",
    "    print(\"Download Successful\")\n",
    "except:\n",
    "    print(\"Failed to download files...\")\n",
    "    raise"
   ]
  },
  {
   "cell_type": "markdown",
   "metadata": {},
   "source": [
    "### Create Grism 'specwcs' file\n",
    "Now we can extract the relevant information out of the GRISMCONF configuration files to create our 'specwcs' asdf file. This is where the notebook officially moves into \"pseudocode\" realm, as this function will need to be rewritten to our HST filter"
   ]
  },
  {
   "cell_type": "code",
   "execution_count": null,
   "metadata": {},
   "outputs": [],
   "source": [
    "from hstreftools.wfc3.wfc3_grism_reffiles import create_grism_specwcs, create_tsgrism_wavelengthrange\n",
    "#from jwreftools.nircam.nircam_grism_reffiles import create_grism_specwcs, create_tsgrism_wavelengthrange\n",
    "specwcs_filename = \"WFC3_\" + filter + \"_specwcs.asdf\"\n",
    "create_grism_specwcs(conffile=conf_path, filename=specwcs_filename)\n",
    "wavelengthrange_filename = \"WFC3_\" + filter + \"_wavelengthrange.asdf\"\n",
    "create_tsgrism_wavelengthrange(filename=wavelengthrange_filename)"
   ]
  },
  {
   "cell_type": "markdown",
   "metadata": {},
   "source": [
    "With this specwcs file, we can now extract our polynomial models as the JWST pipeline does:"
   ]
  },
  {
   "cell_type": "code",
   "execution_count": null,
   "metadata": {},
   "outputs": [],
   "source": [
    "specwcs = asdf.open(reference_files['specwcs_filename']).tree\n",
    "displ = specwcs['displ']\n",
    "dispx = specwcs['dispx']\n",
    "dispy = specwcs['dispy']\n",
    "invdispl = specwcs['invdispl']\n",
    "invdispx = specwcs['invdispx']\n",
    "invdispy = specwcs['invdispy']\n",
    "orders = specwcs['orders']"
   ]
  },
  {
   "cell_type": "markdown",
   "metadata": {},
   "source": [
    "### Create Grism Pipeline via Dispersion Models\n",
    "With these polynomial trace models, we can now create the appropriate detector GRISM Dispersion Models and thereby create the necessary products fo the grism pipeline.\n",
    "\n",
    "Obviously, the GrismDispersion classes will need to be written for HST WFC3"
   ]
  },
  {
   "cell_type": "code",
   "execution_count": null,
   "metadata": {},
   "outputs": [],
   "source": [
    "from gwcs import coordinate_frames as cf\n",
    "from astropy import units as u\n",
    "\n",
    "from hst.transforms.models import WFC3ForwardRowGrismDispersion, WFC3NIRCAMBackwardGrismDispersion\n",
    "#from jwst.transforms.models import NIRCAMForwardRowGrismDispersion, NIRCAMBackwardGrismDispersion\n",
    "\n",
    "gdetector = cf.Frame2D(name='grism_detector', \n",
    "                       axes_order=(0, 1),\n",
    "                       unit=(u.pix, u.pix))\n",
    "det2det = NIRCAMForwardRowGrismDispersion(orders,\n",
    "                                          lmodels=displ,\n",
    "                                          xmodels=invdispx,\n",
    "                                          ymodels=dispy)\n",
    "det2det.inverse = NIRCAMBackwardGrismDispersion(orders,\n",
    "                                                lmodels=invdispl,\n",
    "                                                xmodels=dispx,\n",
    "                                                ymodels=dispy)\n",
    "\n",
    "grism_pipeline = [(gdetector, det2det)]"
   ]
  },
  {
   "cell_type": "markdown",
   "metadata": {},
   "source": [
    "### Create Image pipeline from dispersed grism image and reference files\n",
    "The appropriate WFC3 analogs for the distortion models and filters' wavelength ranges will need to be obtained with the help of a WFC3 SME"
   ]
  },
  {
   "cell_type": "code",
   "execution_count": null,
   "metadata": {},
   "outputs": [],
   "source": [
    "from hst import datamodels\n",
    "from hst.assign_wcs import wfc3\n",
    "#from jwst import datamodels\n",
    "#from jwst.assign_wcs import nircam\n",
    "\n",
    "# open the dispersed exposure\n",
    "input_model = datamodels.open(str(ib6o23rsq_flt_2_SPC_path))\n",
    "\n",
    "image_pipeline = wfc3.imaging(input_model, reference_files)\n",
    "imagepipe = []\n",
    "world = image_pipeline.pop()\n",
    "for cframe, trans in image_pipeline:\n",
    "    trans = trans & (Identity(2))\n",
    "    imagepipe.append((cframe, trans))\n",
    "imagepipe.append((world))\n",
    "grism_pipeline.extend(imagepipe)"
   ]
  },
  {
   "cell_type": "markdown",
   "metadata": {},
   "source": [
    "### Create GWCS object\n",
    "Using the pipeline products above, with both image and grism pipelines, we can now create our WCS object"
   ]
  },
  {
   "cell_type": "code",
   "execution_count": null,
   "metadata": {},
   "outputs": [],
   "source": [
    "from gwcs import WCS\n",
    "\n",
    "wcsobj = WCS(grism_pipeline)"
   ]
  },
  {
   "cell_type": "markdown",
   "metadata": {},
   "source": [
    "## Work to be done\n",
    "This notebook was originally intended to be a full working example of how this process should work, but obviously the amount of work needed to actually accomplish this feat is much larger than anyone realistically imagined. That being said, hopefully this notebook adequately shows that we can get there, and outlines how we should get there. In summary, here's what needs to be done in order to actually get this notebook to be functional:\n",
    "1. Gather the WFC3 distortion models from a WFC3 Subject Matter Expert\n",
    "2. \"Genericize\" or make a WFC3-specific version of create_grism_specwcs\n",
    "    * This should be fairly straight forward, considering the GRISMCONF input conffile for the WFC3 grisms already exists\n",
    "3. Similarly, \"Genericize\" or make a WFC3-specific version of create_tsgrism_wavelengthrange\n",
    "4. Create the WFC3 GRISM Dispersion Models to injest the grism trace models\n",
    "    * Arguably, the center piece of the original purpose of JDAT-12\n",
    "5. Create the WFC3 imaging model to apply the given distortions onto\n",
    "    * From my perspective, this one has the highest \"black-box, unknown score\" associated with it"
   ]
  }
 ],
 "metadata": {
  "kernelspec": {
   "display_name": "Python 3",
   "language": "python",
   "name": "python3"
  },
  "language_info": {
   "codemirror_mode": {
    "name": "ipython",
    "version": 3
   },
   "file_extension": ".py",
   "mimetype": "text/x-python",
   "name": "python",
   "nbconvert_exporter": "python",
   "pygments_lexer": "ipython3",
   "version": "3.6.8"
  }
 },
 "nbformat": 4,
 "nbformat_minor": 4
}
